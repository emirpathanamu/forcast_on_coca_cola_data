{
  "cells": [
    {
      "metadata": {
        "trusted": false,
        "id": "06613957"
      },
      "id": "06613957",
      "cell_type": "code",
      "source": [
        "import pandas as pd\n",
        "import numpy as np\n",
        "import seaborn as sns\n",
        "import matplotlib.pyplot as plt\n",
        "import statsmodels.formula.api as smf"
      ],
      "execution_count": 1,
      "outputs": []
    },
    {
      "metadata": {
        "trusted": false,
        "id": "6c9a53c3"
      },
      "id": "6c9a53c3",
      "cell_type": "code",
      "source": [
        "df = pd.read_excel(\"/content/CocaCola_Sales_Rawdata.xlsx\")"
      ],
      "execution_count": 2,
      "outputs": []
    },
    {
      "cell_type": "code",
      "source": [
        "df.head(5)"
      ],
      "metadata": {
        "colab": {
          "base_uri": "https://localhost:8080/",
          "height": 206
        },
        "id": "t7tcwwyUg6zG",
        "outputId": "4bfeade8-37ad-4672-d733-fa718bbd0ada"
      },
      "id": "t7tcwwyUg6zG",
      "execution_count": 3,
      "outputs": [
        {
          "output_type": "execute_result",
          "data": {
            "text/plain": [
              "  Quarter        Sales\n",
              "0   Q1_86  1734.827000\n",
              "1   Q2_86  2244.960999\n",
              "2   Q3_86  2533.804993\n",
              "3   Q4_86  2154.962997\n",
              "4   Q1_87  1547.818996"
            ],
            "text/html": [
              "\n",
              "  <div id=\"df-1742e6b0-71e8-47f6-823c-6f10cd8d078c\">\n",
              "    <div class=\"colab-df-container\">\n",
              "      <div>\n",
              "<style scoped>\n",
              "    .dataframe tbody tr th:only-of-type {\n",
              "        vertical-align: middle;\n",
              "    }\n",
              "\n",
              "    .dataframe tbody tr th {\n",
              "        vertical-align: top;\n",
              "    }\n",
              "\n",
              "    .dataframe thead th {\n",
              "        text-align: right;\n",
              "    }\n",
              "</style>\n",
              "<table border=\"1\" class=\"dataframe\">\n",
              "  <thead>\n",
              "    <tr style=\"text-align: right;\">\n",
              "      <th></th>\n",
              "      <th>Quarter</th>\n",
              "      <th>Sales</th>\n",
              "    </tr>\n",
              "  </thead>\n",
              "  <tbody>\n",
              "    <tr>\n",
              "      <th>0</th>\n",
              "      <td>Q1_86</td>\n",
              "      <td>1734.827000</td>\n",
              "    </tr>\n",
              "    <tr>\n",
              "      <th>1</th>\n",
              "      <td>Q2_86</td>\n",
              "      <td>2244.960999</td>\n",
              "    </tr>\n",
              "    <tr>\n",
              "      <th>2</th>\n",
              "      <td>Q3_86</td>\n",
              "      <td>2533.804993</td>\n",
              "    </tr>\n",
              "    <tr>\n",
              "      <th>3</th>\n",
              "      <td>Q4_86</td>\n",
              "      <td>2154.962997</td>\n",
              "    </tr>\n",
              "    <tr>\n",
              "      <th>4</th>\n",
              "      <td>Q1_87</td>\n",
              "      <td>1547.818996</td>\n",
              "    </tr>\n",
              "  </tbody>\n",
              "</table>\n",
              "</div>\n",
              "      <button class=\"colab-df-convert\" onclick=\"convertToInteractive('df-1742e6b0-71e8-47f6-823c-6f10cd8d078c')\"\n",
              "              title=\"Convert this dataframe to an interactive table.\"\n",
              "              style=\"display:none;\">\n",
              "        \n",
              "  <svg xmlns=\"http://www.w3.org/2000/svg\" height=\"24px\"viewBox=\"0 0 24 24\"\n",
              "       width=\"24px\">\n",
              "    <path d=\"M0 0h24v24H0V0z\" fill=\"none\"/>\n",
              "    <path d=\"M18.56 5.44l.94 2.06.94-2.06 2.06-.94-2.06-.94-.94-2.06-.94 2.06-2.06.94zm-11 1L8.5 8.5l.94-2.06 2.06-.94-2.06-.94L8.5 2.5l-.94 2.06-2.06.94zm10 10l.94 2.06.94-2.06 2.06-.94-2.06-.94-.94-2.06-.94 2.06-2.06.94z\"/><path d=\"M17.41 7.96l-1.37-1.37c-.4-.4-.92-.59-1.43-.59-.52 0-1.04.2-1.43.59L10.3 9.45l-7.72 7.72c-.78.78-.78 2.05 0 2.83L4 21.41c.39.39.9.59 1.41.59.51 0 1.02-.2 1.41-.59l7.78-7.78 2.81-2.81c.8-.78.8-2.07 0-2.86zM5.41 20L4 18.59l7.72-7.72 1.47 1.35L5.41 20z\"/>\n",
              "  </svg>\n",
              "      </button>\n",
              "      \n",
              "  <style>\n",
              "    .colab-df-container {\n",
              "      display:flex;\n",
              "      flex-wrap:wrap;\n",
              "      gap: 12px;\n",
              "    }\n",
              "\n",
              "    .colab-df-convert {\n",
              "      background-color: #E8F0FE;\n",
              "      border: none;\n",
              "      border-radius: 50%;\n",
              "      cursor: pointer;\n",
              "      display: none;\n",
              "      fill: #1967D2;\n",
              "      height: 32px;\n",
              "      padding: 0 0 0 0;\n",
              "      width: 32px;\n",
              "    }\n",
              "\n",
              "    .colab-df-convert:hover {\n",
              "      background-color: #E2EBFA;\n",
              "      box-shadow: 0px 1px 2px rgba(60, 64, 67, 0.3), 0px 1px 3px 1px rgba(60, 64, 67, 0.15);\n",
              "      fill: #174EA6;\n",
              "    }\n",
              "\n",
              "    [theme=dark] .colab-df-convert {\n",
              "      background-color: #3B4455;\n",
              "      fill: #D2E3FC;\n",
              "    }\n",
              "\n",
              "    [theme=dark] .colab-df-convert:hover {\n",
              "      background-color: #434B5C;\n",
              "      box-shadow: 0px 1px 3px 1px rgba(0, 0, 0, 0.15);\n",
              "      filter: drop-shadow(0px 1px 2px rgba(0, 0, 0, 0.3));\n",
              "      fill: #FFFFFF;\n",
              "    }\n",
              "  </style>\n",
              "\n",
              "      <script>\n",
              "        const buttonEl =\n",
              "          document.querySelector('#df-1742e6b0-71e8-47f6-823c-6f10cd8d078c button.colab-df-convert');\n",
              "        buttonEl.style.display =\n",
              "          google.colab.kernel.accessAllowed ? 'block' : 'none';\n",
              "\n",
              "        async function convertToInteractive(key) {\n",
              "          const element = document.querySelector('#df-1742e6b0-71e8-47f6-823c-6f10cd8d078c');\n",
              "          const dataTable =\n",
              "            await google.colab.kernel.invokeFunction('convertToInteractive',\n",
              "                                                     [key], {});\n",
              "          if (!dataTable) return;\n",
              "\n",
              "          const docLinkHtml = 'Like what you see? Visit the ' +\n",
              "            '<a target=\"_blank\" href=https://colab.research.google.com/notebooks/data_table.ipynb>data table notebook</a>'\n",
              "            + ' to learn more about interactive tables.';\n",
              "          element.innerHTML = '';\n",
              "          dataTable['output_type'] = 'display_data';\n",
              "          await google.colab.output.renderOutput(dataTable, element);\n",
              "          const docLink = document.createElement('div');\n",
              "          docLink.innerHTML = docLinkHtml;\n",
              "          element.appendChild(docLink);\n",
              "        }\n",
              "      </script>\n",
              "    </div>\n",
              "  </div>\n",
              "  "
            ]
          },
          "metadata": {},
          "execution_count": 3
        }
      ]
    },
    {
      "metadata": {
        "trusted": false,
        "colab": {
          "base_uri": "https://localhost:8080/",
          "height": 300
        },
        "id": "48f4f1fb",
        "outputId": "cf140f61-748c-479c-8a1f-b3a07a338bf2"
      },
      "id": "48f4f1fb",
      "cell_type": "code",
      "source": [
        "df.describe()"
      ],
      "execution_count": 4,
      "outputs": [
        {
          "output_type": "execute_result",
          "data": {
            "text/plain": [
              "             Sales\n",
              "count    42.000000\n",
              "mean   2994.353308\n",
              "std     977.930896\n",
              "min    1547.818996\n",
              "25%    2159.714247\n",
              "50%    2782.376999\n",
              "75%    3609.250000\n",
              "max    5253.000000"
            ],
            "text/html": [
              "\n",
              "  <div id=\"df-96af0b98-4fe3-44a9-ba08-7e65c17b2dd4\">\n",
              "    <div class=\"colab-df-container\">\n",
              "      <div>\n",
              "<style scoped>\n",
              "    .dataframe tbody tr th:only-of-type {\n",
              "        vertical-align: middle;\n",
              "    }\n",
              "\n",
              "    .dataframe tbody tr th {\n",
              "        vertical-align: top;\n",
              "    }\n",
              "\n",
              "    .dataframe thead th {\n",
              "        text-align: right;\n",
              "    }\n",
              "</style>\n",
              "<table border=\"1\" class=\"dataframe\">\n",
              "  <thead>\n",
              "    <tr style=\"text-align: right;\">\n",
              "      <th></th>\n",
              "      <th>Sales</th>\n",
              "    </tr>\n",
              "  </thead>\n",
              "  <tbody>\n",
              "    <tr>\n",
              "      <th>count</th>\n",
              "      <td>42.000000</td>\n",
              "    </tr>\n",
              "    <tr>\n",
              "      <th>mean</th>\n",
              "      <td>2994.353308</td>\n",
              "    </tr>\n",
              "    <tr>\n",
              "      <th>std</th>\n",
              "      <td>977.930896</td>\n",
              "    </tr>\n",
              "    <tr>\n",
              "      <th>min</th>\n",
              "      <td>1547.818996</td>\n",
              "    </tr>\n",
              "    <tr>\n",
              "      <th>25%</th>\n",
              "      <td>2159.714247</td>\n",
              "    </tr>\n",
              "    <tr>\n",
              "      <th>50%</th>\n",
              "      <td>2782.376999</td>\n",
              "    </tr>\n",
              "    <tr>\n",
              "      <th>75%</th>\n",
              "      <td>3609.250000</td>\n",
              "    </tr>\n",
              "    <tr>\n",
              "      <th>max</th>\n",
              "      <td>5253.000000</td>\n",
              "    </tr>\n",
              "  </tbody>\n",
              "</table>\n",
              "</div>\n",
              "      <button class=\"colab-df-convert\" onclick=\"convertToInteractive('df-96af0b98-4fe3-44a9-ba08-7e65c17b2dd4')\"\n",
              "              title=\"Convert this dataframe to an interactive table.\"\n",
              "              style=\"display:none;\">\n",
              "        \n",
              "  <svg xmlns=\"http://www.w3.org/2000/svg\" height=\"24px\"viewBox=\"0 0 24 24\"\n",
              "       width=\"24px\">\n",
              "    <path d=\"M0 0h24v24H0V0z\" fill=\"none\"/>\n",
              "    <path d=\"M18.56 5.44l.94 2.06.94-2.06 2.06-.94-2.06-.94-.94-2.06-.94 2.06-2.06.94zm-11 1L8.5 8.5l.94-2.06 2.06-.94-2.06-.94L8.5 2.5l-.94 2.06-2.06.94zm10 10l.94 2.06.94-2.06 2.06-.94-2.06-.94-.94-2.06-.94 2.06-2.06.94z\"/><path d=\"M17.41 7.96l-1.37-1.37c-.4-.4-.92-.59-1.43-.59-.52 0-1.04.2-1.43.59L10.3 9.45l-7.72 7.72c-.78.78-.78 2.05 0 2.83L4 21.41c.39.39.9.59 1.41.59.51 0 1.02-.2 1.41-.59l7.78-7.78 2.81-2.81c.8-.78.8-2.07 0-2.86zM5.41 20L4 18.59l7.72-7.72 1.47 1.35L5.41 20z\"/>\n",
              "  </svg>\n",
              "      </button>\n",
              "      \n",
              "  <style>\n",
              "    .colab-df-container {\n",
              "      display:flex;\n",
              "      flex-wrap:wrap;\n",
              "      gap: 12px;\n",
              "    }\n",
              "\n",
              "    .colab-df-convert {\n",
              "      background-color: #E8F0FE;\n",
              "      border: none;\n",
              "      border-radius: 50%;\n",
              "      cursor: pointer;\n",
              "      display: none;\n",
              "      fill: #1967D2;\n",
              "      height: 32px;\n",
              "      padding: 0 0 0 0;\n",
              "      width: 32px;\n",
              "    }\n",
              "\n",
              "    .colab-df-convert:hover {\n",
              "      background-color: #E2EBFA;\n",
              "      box-shadow: 0px 1px 2px rgba(60, 64, 67, 0.3), 0px 1px 3px 1px rgba(60, 64, 67, 0.15);\n",
              "      fill: #174EA6;\n",
              "    }\n",
              "\n",
              "    [theme=dark] .colab-df-convert {\n",
              "      background-color: #3B4455;\n",
              "      fill: #D2E3FC;\n",
              "    }\n",
              "\n",
              "    [theme=dark] .colab-df-convert:hover {\n",
              "      background-color: #434B5C;\n",
              "      box-shadow: 0px 1px 3px 1px rgba(0, 0, 0, 0.15);\n",
              "      filter: drop-shadow(0px 1px 2px rgba(0, 0, 0, 0.3));\n",
              "      fill: #FFFFFF;\n",
              "    }\n",
              "  </style>\n",
              "\n",
              "      <script>\n",
              "        const buttonEl =\n",
              "          document.querySelector('#df-96af0b98-4fe3-44a9-ba08-7e65c17b2dd4 button.colab-df-convert');\n",
              "        buttonEl.style.display =\n",
              "          google.colab.kernel.accessAllowed ? 'block' : 'none';\n",
              "\n",
              "        async function convertToInteractive(key) {\n",
              "          const element = document.querySelector('#df-96af0b98-4fe3-44a9-ba08-7e65c17b2dd4');\n",
              "          const dataTable =\n",
              "            await google.colab.kernel.invokeFunction('convertToInteractive',\n",
              "                                                     [key], {});\n",
              "          if (!dataTable) return;\n",
              "\n",
              "          const docLinkHtml = 'Like what you see? Visit the ' +\n",
              "            '<a target=\"_blank\" href=https://colab.research.google.com/notebooks/data_table.ipynb>data table notebook</a>'\n",
              "            + ' to learn more about interactive tables.';\n",
              "          element.innerHTML = '';\n",
              "          dataTable['output_type'] = 'display_data';\n",
              "          await google.colab.output.renderOutput(dataTable, element);\n",
              "          const docLink = document.createElement('div');\n",
              "          docLink.innerHTML = docLinkHtml;\n",
              "          element.appendChild(docLink);\n",
              "        }\n",
              "      </script>\n",
              "    </div>\n",
              "  </div>\n",
              "  "
            ]
          },
          "metadata": {},
          "execution_count": 4
        }
      ]
    },
    {
      "metadata": {
        "id": "0c5cac53"
      },
      "id": "0c5cac53",
      "cell_type": "markdown",
      "source": [
        "### Visualization"
      ]
    },
    {
      "metadata": {
        "trusted": false,
        "colab": {
          "base_uri": "https://localhost:8080/",
          "height": 448
        },
        "id": "bdcfd0df",
        "outputId": "d2220ee8-c152-4ba3-a83a-0d36c3cf9e26"
      },
      "id": "bdcfd0df",
      "cell_type": "code",
      "source": [
        "#Sales trend with date \n",
        "df.plot()"
      ],
      "execution_count": 5,
      "outputs": [
        {
          "output_type": "execute_result",
          "data": {
            "text/plain": [
              "<Axes: >"
            ]
          },
          "metadata": {},
          "execution_count": 5
        },
        {
          "output_type": "display_data",
          "data": {
            "text/plain": [
              "<Figure size 640x480 with 1 Axes>"
            ],
            "image/png": "[encoded data removed]"
          },
          "metadata": {}
        }
      ]
    },
    {
      "metadata": {
        "trusted": false,
        "colab": {
          "base_uri": "https://localhost:8080/",
          "height": 448
        },
        "id": "b6dbf603",
        "outputId": "456d4d38-b7fd-46f1-a418-e6c9477ea189"
      },
      "id": "b6dbf603",
      "cell_type": "code",
      "source": [
        "#checking data for the any outlier or noise\n",
        "import seaborn as  sns\n",
        "sns.boxplot(data =df)"
      ],
      "execution_count": 6,
      "outputs": [
        {
          "output_type": "execute_result",
          "data": {
            "text/plain": [
              "<Axes: >"
            ]
          },
          "metadata": {},
          "execution_count": 6
        },
        {
          "output_type": "display_data",
          "data": {
            "text/plain": [
              "<Figure size 640x480 with 1 Axes>"
            ],
            "image/png": "[encoded data removed]"
          },
          "metadata": {}
        }
      ]
    },
    {
      "metadata": {
        "trusted": false,
        "colab": {
          "base_uri": "https://localhost:8080/",
          "height": 470
        },
        "id": "ce7840ad",
        "outputId": "480ef9df-14aa-4e4c-eeb4-2de0d622219a"
      },
      "id": "ce7840ad",
      "cell_type": "code",
      "source": [
        "df.hist()"
      ],
      "execution_count": 7,
      "outputs": [
        {
          "output_type": "execute_result",
          "data": {
            "text/plain": [
              "array([[<Axes: title={'center': 'Sales'}>]], dtype=object)"
            ]
          },
          "metadata": {},
          "execution_count": 7
        },
        {
          "output_type": "display_data",
          "data": {
            "text/plain": [
              "<Figure size 640x480 with 1 Axes>"
            ],
            "image/png": "[encoded data removed]"
          },
          "metadata": {}
        }
      ]
    },
    {
      "metadata": {
        "trusted": false,
        "colab": {
          "base_uri": "https://localhost:8080/",
          "height": 448
        },
        "id": "ddd126db",
        "outputId": "04a5ed10-02e1-4a48-d754-168876f40973"
      },
      "id": "ddd126db",
      "cell_type": "code",
      "source": [
        "df.plot(kind=\"kde\")"
      ],
      "execution_count": 8,
      "outputs": [
        {
          "output_type": "execute_result",
          "data": {
            "text/plain": [
              "<Axes: ylabel='Density'>"
            ]
          },
          "metadata": {},
          "execution_count": 8
        },
        {
          "output_type": "display_data",
          "data": {
            "text/plain": [
              "<Figure size 640x480 with 1 Axes>"
            ],
            "image/png": "[encoded data removed]"
          },
          "metadata": {}
        }
      ]
    },
    {
      "metadata": {
        "trusted": false,
        "colab": {
          "base_uri": "https://localhost:8080/"
        },
        "id": "63c9e5b8",
        "outputId": "b3368332-4666-494b-c7ed-112ea94e24ba"
      },
      "id": "63c9e5b8",
      "cell_type": "code",
      "source": [
        "np.array(df[\"Sales\"])"
      ],
      "execution_count": 9,
      "outputs": [
        {
          "output_type": "execute_result",
          "data": {
            "text/plain": [
              "array([1734.82699966, 2244.96099854, 2533.80499268, 2154.96299744,\n",
              "       1547.81899643, 2104.41199493, 2014.36299896, 1991.74699783,\n",
              "       1869.04999924, 2313.63199615, 2128.31999969, 2026.82899857,\n",
              "       1910.60399628, 2331.16499329, 2206.54999542, 2173.96799469,\n",
              "       2148.27799988, 2739.30799866, 2792.7539978 , 2556.00999451,\n",
              "       2480.97399902, 3039.522995  , 3172.11599731, 2879.00099945,\n",
              "       2772.        , 3550.        , 3508.        , 3243.85999298,\n",
              "       3056.        , 3899.        , 3629.        , 3373.        ,\n",
              "       3352.        , 4342.        , 4461.        , 4017.        ,\n",
              "       3854.        , 4936.        , 4895.        , 4333.        ,\n",
              "       4194.        , 5253.        ])"
            ]
          },
          "metadata": {},
          "execution_count": 9
        }
      ]
    },
    {
      "metadata": {
        "trusted": false,
        "colab": {
          "base_uri": "https://localhost:8080/",
          "height": 658
        },
        "id": "8c4314c9",
        "outputId": "904515bc-3a50-4ebf-afa4-6a02031dcc44"
      },
      "id": "8c4314c9",
      "cell_type": "code",
      "source": [
        "import seaborn as sns\n",
        "sns.set_theme()\n",
        "rk= sns.distplot(df['Sales'],kde=True)"
      ],
      "execution_count": 10,
      "outputs": [
        {
          "output_type": "stream",
          "name": "stderr",
          "text": [
            "<ipython-input-10-5f931c073f6b>:3: UserWarning: \n",
            "\n",
            "`distplot` is a deprecated function and will be removed in seaborn v0.14.0.\n",
            "\n",
            "Please adapt your code to use either `displot` (a figure-level function with\n",
            "similar flexibility) or `histplot` (an axes-level function for histograms).\n",
            "\n",
            "For a guide to updating your code to use the new functions, please see\n",
            "https://gist.github.com/mwaskom/de44147ed2974457ad6372750bbe5751\n",
            "\n",
            "  rk= sns.distplot(df['Sales'],kde=True)\n"
          ]
        },
        {
          "output_type": "display_data",
          "data": {
            "text/plain": [
              "<Figure size 640x480 with 1 Axes>"
            ],
            "image/png": "[encoded data removed]"
          },
          "metadata": {}
        }
      ]
    },
    {
      "metadata": {
        "trusted": false,
        "colab": {
          "base_uri": "https://localhost:8080/",
          "height": 476
        },
        "id": "e868428c",
        "outputId": "8ea3ecf5-0f03-4718-c96c-d093973ae5fb"
      },
      "id": "e868428c",
      "cell_type": "code",
      "source": [
        "from pandas.plotting import lag_plot\n",
        "lag_plot(df['Sales'])"
      ],
      "execution_count": 11,
      "outputs": [
        {
          "output_type": "execute_result",
          "data": {
            "text/plain": [
              "<Axes: xlabel='y(t)', ylabel='y(t + 1)'>"
            ]
          },
          "metadata": {},
          "execution_count": 11
        },
        {
          "output_type": "display_data",
          "data": {
            "text/plain": [
              "<Figure size 640x480 with 1 Axes>"
            ],
            "image/png": "[encoded data removed]"
          },
          "metadata": {}
        }
      ]
    },
    {
      "metadata": {
        "id": "acf43bc4"
      },
      "id": "acf43bc4",
      "cell_type": "markdown",
      "source": [
        "## Preparing the Data for the pridiction "
      ]
    },
    {
      "metadata": {
        "trusted": false,
        "colab": {
          "base_uri": "https://localhost:8080/",
          "height": 206
        },
        "id": "7ee8b3c7",
        "outputId": "a5faf9b9-77ce-4ffb-e1d6-b78fac60d0f1"
      },
      "id": "7ee8b3c7",
      "cell_type": "code",
      "source": [
        "df.head()"
      ],
      "execution_count": 12,
      "outputs": [
        {
          "output_type": "execute_result",
          "data": {
            "text/plain": [
              "  Quarter        Sales\n",
              "0   Q1_86  1734.827000\n",
              "1   Q2_86  2244.960999\n",
              "2   Q3_86  2533.804993\n",
              "3   Q4_86  2154.962997\n",
              "4   Q1_87  1547.818996"
            ],
            "text/html": [
              "\n",
              "  <div id=\"df-751eb802-49a1-4979-818f-08255a813b9d\">\n",
              "    <div class=\"colab-df-container\">\n",
              "      <div>\n",
              "<style scoped>\n",
              "    .dataframe tbody tr th:only-of-type {\n",
              "        vertical-align: middle;\n",
              "    }\n",
              "\n",
              "    .dataframe tbody tr th {\n",
              "        vertical-align: top;\n",
              "    }\n",
              "\n",
              "    .dataframe thead th {\n",
              "        text-align: right;\n",
              "    }\n",
              "</style>\n",
              "<table border=\"1\" class=\"dataframe\">\n",
              "  <thead>\n",
              "    <tr style=\"text-align: right;\">\n",
              "      <th></th>\n",
              "      <th>Quarter</th>\n",
              "      <th>Sales</th>\n",
              "    </tr>\n",
              "  </thead>\n",
              "  <tbody>\n",
              "    <tr>\n",
              "      <th>0</th>\n",
              "      <td>Q1_86</td>\n",
              "      <td>1734.827000</td>\n",
              "    </tr>\n",
              "    <tr>\n",
              "      <th>1</th>\n",
              "      <td>Q2_86</td>\n",
              "      <td>2244.960999</td>\n",
              "    </tr>\n",
              "    <tr>\n",
              "      <th>2</th>\n",
              "      <td>Q3_86</td>\n",
              "      <td>2533.804993</td>\n",
              "    </tr>\n",
              "    <tr>\n",
              "      <th>3</th>\n",
              "      <td>Q4_86</td>\n",
              "      <td>2154.962997</td>\n",
              "    </tr>\n",
              "    <tr>\n",
              "      <th>4</th>\n",
              "      <td>Q1_87</td>\n",
              "      <td>1547.818996</td>\n",
              "    </tr>\n",
              "  </tbody>\n",
              "</table>\n",
              "</div>\n",
              "      <button class=\"colab-df-convert\" onclick=\"convertToInteractive('df-751eb802-49a1-4979-818f-08255a813b9d')\"\n",
              "              title=\"Convert this dataframe to an interactive table.\"\n",
              "              style=\"display:none;\">\n",
              "        \n",
              "  <svg xmlns=\"http://www.w3.org/2000/svg\" height=\"24px\"viewBox=\"0 0 24 24\"\n",
              "       width=\"24px\">\n",
              "    <path d=\"M0 0h24v24H0V0z\" fill=\"none\"/>\n",
              "    <path d=\"M18.56 5.44l.94 2.06.94-2.06 2.06-.94-2.06-.94-.94-2.06-.94 2.06-2.06.94zm-11 1L8.5 8.5l.94-2.06 2.06-.94-2.06-.94L8.5 2.5l-.94 2.06-2.06.94zm10 10l.94 2.06.94-2.06 2.06-.94-2.06-.94-.94-2.06-.94 2.06-2.06.94z\"/><path d=\"M17.41 7.96l-1.37-1.37c-.4-.4-.92-.59-1.43-.59-.52 0-1.04.2-1.43.59L10.3 9.45l-7.72 7.72c-.78.78-.78 2.05 0 2.83L4 21.41c.39.39.9.59 1.41.59.51 0 1.02-.2 1.41-.59l7.78-7.78 2.81-2.81c.8-.78.8-2.07 0-2.86zM5.41 20L4 18.59l7.72-7.72 1.47 1.35L5.41 20z\"/>\n",
              "  </svg>\n",
              "      </button>\n",
              "      \n",
              "  <style>\n",
              "    .colab-df-container {\n",
              "      display:flex;\n",
              "      flex-wrap:wrap;\n",
              "      gap: 12px;\n",
              "    }\n",
              "\n",
              "    .colab-df-convert {\n",
              "      background-color: #E8F0FE;\n",
              "      border: none;\n",
              "      border-radius: 50%;\n",
              "      cursor: pointer;\n",
              "      display: none;\n",
              "      fill: #1967D2;\n",
              "      height: 32px;\n",
              "      padding: 0 0 0 0;\n",
              "      width: 32px;\n",
              "    }\n",
              "\n",
              "    .colab-df-convert:hover {\n",
              "      background-color: #E2EBFA;\n",
              "      box-shadow: 0px 1px 2px rgba(60, 64, 67, 0.3), 0px 1px 3px 1px rgba(60, 64, 67, 0.15);\n",
              "      fill: #174EA6;\n",
              "    }\n",
              "\n",
              "    [theme=dark] .colab-df-convert {\n",
              "      background-color: #3B4455;\n",
              "      fill: #D2E3FC;\n",
              "    }\n",
              "\n",
              "    [theme=dark] .colab-df-convert:hover {\n",
              "      background-color: #434B5C;\n",
              "      box-shadow: 0px 1px 3px 1px rgba(0, 0, 0, 0.15);\n",
              "      filter: drop-shadow(0px 1px 2px rgba(0, 0, 0, 0.3));\n",
              "      fill: #FFFFFF;\n",
              "    }\n",
              "  </style>\n",
              "\n",
              "      <script>\n",
              "        const buttonEl =\n",
              "          document.querySelector('#df-751eb802-49a1-4979-818f-08255a813b9d button.colab-df-convert');\n",
              "        buttonEl.style.display =\n",
              "          google.colab.kernel.accessAllowed ? 'block' : 'none';\n",
              "\n",
              "        async function convertToInteractive(key) {\n",
              "          const element = document.querySelector('#df-751eb802-49a1-4979-818f-08255a813b9d');\n",
              "          const dataTable =\n",
              "            await google.colab.kernel.invokeFunction('convertToInteractive',\n",
              "                                                     [key], {});\n",
              "          if (!dataTable) return;\n",
              "\n",
              "          const docLinkHtml = 'Like what you see? Visit the ' +\n",
              "            '<a target=\"_blank\" href=https://colab.research.google.com/notebooks/data_table.ipynb>data table notebook</a>'\n",
              "            + ' to learn more about interactive tables.';\n",
              "          element.innerHTML = '';\n",
              "          dataTable['output_type'] = 'display_data';\n",
              "          await google.colab.output.renderOutput(dataTable, element);\n",
              "          const docLink = document.createElement('div');\n",
              "          docLink.innerHTML = docLinkHtml;\n",
              "          element.appendChild(docLink);\n",
              "        }\n",
              "      </script>\n",
              "    </div>\n",
              "  </div>\n",
              "  "
            ]
          },
          "metadata": {},
          "execution_count": 12
        }
      ]
    },
    {
      "metadata": {
        "trusted": false,
        "colab": {
          "base_uri": "https://localhost:8080/"
        },
        "id": "b7d381b0",
        "outputId": "d085adfe-0e0d-463e-c2f0-44c179f361f2"
      },
      "id": "b7d381b0",
      "cell_type": "code",
      "source": [
        "len(df)"
      ],
      "execution_count": 13,
      "outputs": [
        {
          "output_type": "execute_result",
          "data": {
            "text/plain": [
              "42"
            ]
          },
          "metadata": {},
          "execution_count": 13
        }
      ]
    },
    {
      "metadata": {
        "trusted": false,
        "id": "83b20e39"
      },
      "id": "83b20e39",
      "cell_type": "code",
      "source": [
        "df['quarter'] = df['Quarter'].str[:2]"
      ],
      "execution_count": 14,
      "outputs": []
    },
    {
      "metadata": {
        "trusted": false,
        "colab": {
          "base_uri": "https://localhost:8080/",
          "height": 112
        },
        "id": "a5b0bcde",
        "outputId": "e464c95f-3fbd-46d0-feeb-8a43d273eba7"
      },
      "id": "a5b0bcde",
      "cell_type": "code",
      "source": [
        "df.head(2)"
      ],
      "execution_count": 15,
      "outputs": [
        {
          "output_type": "execute_result",
          "data": {
            "text/plain": [
              "  Quarter        Sales quarter\n",
              "0   Q1_86  1734.827000      Q1\n",
              "1   Q2_86  2244.960999      Q2"
            ],
            "text/html": [
              "\n",
              "  <div id=\"df-309befe2-3d7c-4b7e-8488-e29560ccbc1b\">\n",
              "    <div class=\"colab-df-container\">\n",
              "      <div>\n",
              "<style scoped>\n",
              "    .dataframe tbody tr th:only-of-type {\n",
              "        vertical-align: middle;\n",
              "    }\n",
              "\n",
              "    .dataframe tbody tr th {\n",
              "        vertical-align: top;\n",
              "    }\n",
              "\n",
              "    .dataframe thead th {\n",
              "        text-align: right;\n",
              "    }\n",
              "</style>\n",
              "<table border=\"1\" class=\"dataframe\">\n",
              "  <thead>\n",
              "    <tr style=\"text-align: right;\">\n",
              "      <th></th>\n",
              "      <th>Quarter</th>\n",
              "      <th>Sales</th>\n",
              "      <th>quarter</th>\n",
              "    </tr>\n",
              "  </thead>\n",
              "  <tbody>\n",
              "    <tr>\n",
              "      <th>0</th>\n",
              "      <td>Q1_86</td>\n",
              "      <td>1734.827000</td>\n",
              "      <td>Q1</td>\n",
              "    </tr>\n",
              "    <tr>\n",
              "      <th>1</th>\n",
              "      <td>Q2_86</td>\n",
              "      <td>2244.960999</td>\n",
              "      <td>Q2</td>\n",
              "    </tr>\n",
              "  </tbody>\n",
              "</table>\n",
              "</div>\n",
              "      <button class=\"colab-df-convert\" onclick=\"convertToInteractive('df-309befe2-3d7c-4b7e-8488-e29560ccbc1b')\"\n",
              "              title=\"Convert this dataframe to an interactive table.\"\n",
              "              style=\"display:none;\">\n",
              "        \n",
              "  <svg xmlns=\"http://www.w3.org/2000/svg\" height=\"24px\"viewBox=\"0 0 24 24\"\n",
              "       width=\"24px\">\n",
              "    <path d=\"M0 0h24v24H0V0z\" fill=\"none\"/>\n",
              "    <path d=\"M18.56 5.44l.94 2.06.94-2.06 2.06-.94-2.06-.94-.94-2.06-.94 2.06-2.06.94zm-11 1L8.5 8.5l.94-2.06 2.06-.94-2.06-.94L8.5 2.5l-.94 2.06-2.06.94zm10 10l.94 2.06.94-2.06 2.06-.94-2.06-.94-.94-2.06-.94 2.06-2.06.94z\"/><path d=\"M17.41 7.96l-1.37-1.37c-.4-.4-.92-.59-1.43-.59-.52 0-1.04.2-1.43.59L10.3 9.45l-7.72 7.72c-.78.78-.78 2.05 0 2.83L4 21.41c.39.39.9.59 1.41.59.51 0 1.02-.2 1.41-.59l7.78-7.78 2.81-2.81c.8-.78.8-2.07 0-2.86zM5.41 20L4 18.59l7.72-7.72 1.47 1.35L5.41 20z\"/>\n",
              "  </svg>\n",
              "      </button>\n",
              "      \n",
              "  <style>\n",
              "    .colab-df-container {\n",
              "      display:flex;\n",
              "      flex-wrap:wrap;\n",
              "      gap: 12px;\n",
              "    }\n",
              "\n",
              "    .colab-df-convert {\n",
              "      background-color: #E8F0FE;\n",
              "      border: none;\n",
              "      border-radius: 50%;\n",
              "      cursor: pointer;\n",
              "      display: none;\n",
              "      fill: #1967D2;\n",
              "      height: 32px;\n",
              "      padding: 0 0 0 0;\n",
              "      width: 32px;\n",
              "    }\n",
              "\n",
              "    .colab-df-convert:hover {\n",
              "      background-color: #E2EBFA;\n",
              "      box-shadow: 0px 1px 2px rgba(60, 64, 67, 0.3), 0px 1px 3px 1px rgba(60, 64, 67, 0.15);\n",
              "      fill: #174EA6;\n",
              "    }\n",
              "\n",
              "    [theme=dark] .colab-df-convert {\n",
              "      background-color: #3B4455;\n",
              "      fill: #D2E3FC;\n",
              "    }\n",
              "\n",
              "    [theme=dark] .colab-df-convert:hover {\n",
              "      background-color: #434B5C;\n",
              "      box-shadow: 0px 1px 3px 1px rgba(0, 0, 0, 0.15);\n",
              "      filter: drop-shadow(0px 1px 2px rgba(0, 0, 0, 0.3));\n",
              "      fill: #FFFFFF;\n",
              "    }\n",
              "  </style>\n",
              "\n",
              "      <script>\n",
              "        const buttonEl =\n",
              "          document.querySelector('#df-309befe2-3d7c-4b7e-8488-e29560ccbc1b button.colab-df-convert');\n",
              "        buttonEl.style.display =\n",
              "          google.colab.kernel.accessAllowed ? 'block' : 'none';\n",
              "\n",
              "        async function convertToInteractive(key) {\n",
              "          const element = document.querySelector('#df-309befe2-3d7c-4b7e-8488-e29560ccbc1b');\n",
              "          const dataTable =\n",
              "            await google.colab.kernel.invokeFunction('convertToInteractive',\n",
              "                                                     [key], {});\n",
              "          if (!dataTable) return;\n",
              "\n",
              "          const docLinkHtml = 'Like what you see? Visit the ' +\n",
              "            '<a target=\"_blank\" href=https://colab.research.google.com/notebooks/data_table.ipynb>data table notebook</a>'\n",
              "            + ' to learn more about interactive tables.';\n",
              "          element.innerHTML = '';\n",
              "          dataTable['output_type'] = 'display_data';\n",
              "          await google.colab.output.renderOutput(dataTable, element);\n",
              "          const docLink = document.createElement('div');\n",
              "          docLink.innerHTML = docLinkHtml;\n",
              "          element.appendChild(docLink);\n",
              "        }\n",
              "      </script>\n",
              "    </div>\n",
              "  </div>\n",
              "  "
            ]
          },
          "metadata": {},
          "execution_count": 15
        }
      ]
    },
    {
      "metadata": {
        "trusted": false,
        "colab": {
          "base_uri": "https://localhost:8080/"
        },
        "id": "d9fe8b46",
        "outputId": "33226b29-fe91-4beb-d2b2-1b59970ad968"
      },
      "id": "d9fe8b46",
      "cell_type": "code",
      "source": [
        "df['quarter'].value_counts()"
      ],
      "execution_count": 16,
      "outputs": [
        {
          "output_type": "execute_result",
          "data": {
            "text/plain": [
              "Q1    11\n",
              "Q2    11\n",
              "Q3    10\n",
              "Q4    10\n",
              "Name: quarter, dtype: int64"
            ]
          },
          "metadata": {},
          "execution_count": 16
        }
      ]
    },
    {
      "metadata": {
        "trusted": false,
        "id": "a267dcb4"
      },
      "id": "a267dcb4",
      "cell_type": "code",
      "source": [
        "df_dummies = pd.get_dummies(df['quarter'], prefix='Q')\n",
        "df1 = df.join(df_dummies)"
      ],
      "execution_count": 17,
      "outputs": []
    },
    {
      "metadata": {
        "trusted": false,
        "colab": {
          "base_uri": "https://localhost:8080/",
          "height": 206
        },
        "id": "d61a9259",
        "outputId": "9acf2b57-3ebd-4c8e-a303-0dd322bad2eb"
      },
      "id": "d61a9259",
      "cell_type": "code",
      "source": [
        "df.head()"
      ],
      "execution_count": 18,
      "outputs": [
        {
          "output_type": "execute_result",
          "data": {
            "text/plain": [
              "  Quarter        Sales quarter\n",
              "0   Q1_86  1734.827000      Q1\n",
              "1   Q2_86  2244.960999      Q2\n",
              "2   Q3_86  2533.804993      Q3\n",
              "3   Q4_86  2154.962997      Q4\n",
              "4   Q1_87  1547.818996      Q1"
            ],
            "text/html": [
              "\n",
              "  <div id=\"df-6e46b16b-8fe7-4502-9cc1-8c31b18c5c74\">\n",
              "    <div class=\"colab-df-container\">\n",
              "      <div>\n",
              "<style scoped>\n",
              "    .dataframe tbody tr th:only-of-type {\n",
              "        vertical-align: middle;\n",
              "    }\n",
              "\n",
              "    .dataframe tbody tr th {\n",
              "        vertical-align: top;\n",
              "    }\n",
              "\n",
              "    .dataframe thead th {\n",
              "        text-align: right;\n",
              "    }\n",
              "</style>\n",
              "<table border=\"1\" class=\"dataframe\">\n",
              "  <thead>\n",
              "    <tr style=\"text-align: right;\">\n",
              "      <th></th>\n",
              "      <th>Quarter</th>\n",
              "      <th>Sales</th>\n",
              "      <th>quarter</th>\n",
              "    </tr>\n",
              "  </thead>\n",
              "  <tbody>\n",
              "    <tr>\n",
              "      <th>0</th>\n",
              "      <td>Q1_86</td>\n",
              "      <td>1734.827000</td>\n",
              "      <td>Q1</td>\n",
              "    </tr>\n",
              "    <tr>\n",
              "      <th>1</th>\n",
              "      <td>Q2_86</td>\n",
              "      <td>2244.960999</td>\n",
              "      <td>Q2</td>\n",
              "    </tr>\n",
              "    <tr>\n",
              "      <th>2</th>\n",
              "      <td>Q3_86</td>\n",
              "      <td>2533.804993</td>\n",
              "      <td>Q3</td>\n",
              "    </tr>\n",
              "    <tr>\n",
              "      <th>3</th>\n",
              "      <td>Q4_86</td>\n",
              "      <td>2154.962997</td>\n",
              "      <td>Q4</td>\n",
              "    </tr>\n",
              "    <tr>\n",
              "      <th>4</th>\n",
              "      <td>Q1_87</td>\n",
              "      <td>1547.818996</td>\n",
              "      <td>Q1</td>\n",
              "    </tr>\n",
              "  </tbody>\n",
              "</table>\n",
              "</div>\n",
              "      <button class=\"colab-df-convert\" onclick=\"convertToInteractive('df-6e46b16b-8fe7-4502-9cc1-8c31b18c5c74')\"\n",
              "              title=\"Convert this dataframe to an interactive table.\"\n",
              "              style=\"display:none;\">\n",
              "        \n",
              "  <svg xmlns=\"http://www.w3.org/2000/svg\" height=\"24px\"viewBox=\"0 0 24 24\"\n",
              "       width=\"24px\">\n",
              "    <path d=\"M0 0h24v24H0V0z\" fill=\"none\"/>\n",
              "    <path d=\"M18.56 5.44l.94 2.06.94-2.06 2.06-.94-2.06-.94-.94-2.06-.94 2.06-2.06.94zm-11 1L8.5 8.5l.94-2.06 2.06-.94-2.06-.94L8.5 2.5l-.94 2.06-2.06.94zm10 10l.94 2.06.94-2.06 2.06-.94-2.06-.94-.94-2.06-.94 2.06-2.06.94z\"/><path d=\"M17.41 7.96l-1.37-1.37c-.4-.4-.92-.59-1.43-.59-.52 0-1.04.2-1.43.59L10.3 9.45l-7.72 7.72c-.78.78-.78 2.05 0 2.83L4 21.41c.39.39.9.59 1.41.59.51 0 1.02-.2 1.41-.59l7.78-7.78 2.81-2.81c.8-.78.8-2.07 0-2.86zM5.41 20L4 18.59l7.72-7.72 1.47 1.35L5.41 20z\"/>\n",
              "  </svg>\n",
              "      </button>\n",
              "      \n",
              "  <style>\n",
              "    .colab-df-container {\n",
              "      display:flex;\n",
              "      flex-wrap:wrap;\n",
              "      gap: 12px;\n",
              "    }\n",
              "\n",
              "    .colab-df-convert {\n",
              "      background-color: #E8F0FE;\n",
              "      border: none;\n",
              "      border-radius: 50%;\n",
              "      cursor: pointer;\n",
              "      display: none;\n",
              "      fill: #1967D2;\n",
              "      height: 32px;\n",
              "      padding: 0 0 0 0;\n",
              "      width: 32px;\n",
              "    }\n",
              "\n",
              "    .colab-df-convert:hover {\n",
              "      background-color: #E2EBFA;\n",
              "      box-shadow: 0px 1px 2px rgba(60, 64, 67, 0.3), 0px 1px 3px 1px rgba(60, 64, 67, 0.15);\n",
              "      fill: #174EA6;\n",
              "    }\n",
              "\n",
              "    [theme=dark] .colab-df-convert {\n",
              "      background-color: #3B4455;\n",
              "      fill: #D2E3FC;\n",
              "    }\n",
              "\n",
              "    [theme=dark] .colab-df-convert:hover {\n",
              "      background-color: #434B5C;\n",
              "      box-shadow: 0px 1px 3px 1px rgba(0, 0, 0, 0.15);\n",
              "      filter: drop-shadow(0px 1px 2px rgba(0, 0, 0, 0.3));\n",
              "      fill: #FFFFFF;\n",
              "    }\n",
              "  </style>\n",
              "\n",
              "      <script>\n",
              "        const buttonEl =\n",
              "          document.querySelector('#df-6e46b16b-8fe7-4502-9cc1-8c31b18c5c74 button.colab-df-convert');\n",
              "        buttonEl.style.display =\n",
              "          google.colab.kernel.accessAllowed ? 'block' : 'none';\n",
              "\n",
              "        async function convertToInteractive(key) {\n",
              "          const element = document.querySelector('#df-6e46b16b-8fe7-4502-9cc1-8c31b18c5c74');\n",
              "          const dataTable =\n",
              "            await google.colab.kernel.invokeFunction('convertToInteractive',\n",
              "                                                     [key], {});\n",
              "          if (!dataTable) return;\n",
              "\n",
              "          const docLinkHtml = 'Like what you see? Visit the ' +\n",
              "            '<a target=\"_blank\" href=https://colab.research.google.com/notebooks/data_table.ipynb>data table notebook</a>'\n",
              "            + ' to learn more about interactive tables.';\n",
              "          element.innerHTML = '';\n",
              "          dataTable['output_type'] = 'display_data';\n",
              "          await google.colab.output.renderOutput(dataTable, element);\n",
              "          const docLink = document.createElement('div');\n",
              "          docLink.innerHTML = docLinkHtml;\n",
              "          element.appendChild(docLink);\n",
              "        }\n",
              "      </script>\n",
              "    </div>\n",
              "  </div>\n",
              "  "
            ]
          },
          "metadata": {},
          "execution_count": 18
        }
      ]
    },
    {
      "metadata": {
        "trusted": false,
        "colab": {
          "base_uri": "https://localhost:8080/",
          "height": 112
        },
        "id": "be95648f",
        "outputId": "d29acad7-3e76-4797-bb13-89d66f1e98c0"
      },
      "id": "be95648f",
      "cell_type": "code",
      "source": [
        "df1.head(2)"
      ],
      "execution_count": 19,
      "outputs": [
        {
          "output_type": "execute_result",
          "data": {
            "text/plain": [
              "  Quarter        Sales quarter  Q_Q1  Q_Q2  Q_Q3  Q_Q4\n",
              "0   Q1_86  1734.827000      Q1     1     0     0     0\n",
              "1   Q2_86  2244.960999      Q2     0     1     0     0"
            ],
            "text/html": [
              "\n",
              "  <div id=\"df-0e78a52a-3f9e-49ae-b72e-82f780cfe1c0\">\n",
              "    <div class=\"colab-df-container\">\n",
              "      <div>\n",
              "<style scoped>\n",
              "    .dataframe tbody tr th:only-of-type {\n",
              "        vertical-align: middle;\n",
              "    }\n",
              "\n",
              "    .dataframe tbody tr th {\n",
              "        vertical-align: top;\n",
              "    }\n",
              "\n",
              "    .dataframe thead th {\n",
              "        text-align: right;\n",
              "    }\n",
              "</style>\n",
              "<table border=\"1\" class=\"dataframe\">\n",
              "  <thead>\n",
              "    <tr style=\"text-align: right;\">\n",
              "      <th></th>\n",
              "      <th>Quarter</th>\n",
              "      <th>Sales</th>\n",
              "      <th>quarter</th>\n",
              "      <th>Q_Q1</th>\n",
              "      <th>Q_Q2</th>\n",
              "      <th>Q_Q3</th>\n",
              "      <th>Q_Q4</th>\n",
              "    </tr>\n",
              "  </thead>\n",
              "  <tbody>\n",
              "    <tr>\n",
              "      <th>0</th>\n",
              "      <td>Q1_86</td>\n",
              "      <td>1734.827000</td>\n",
              "      <td>Q1</td>\n",
              "      <td>1</td>\n",
              "      <td>0</td>\n",
              "      <td>0</td>\n",
              "      <td>0</td>\n",
              "    </tr>\n",
              "    <tr>\n",
              "      <th>1</th>\n",
              "      <td>Q2_86</td>\n",
              "      <td>2244.960999</td>\n",
              "      <td>Q2</td>\n",
              "      <td>0</td>\n",
              "      <td>1</td>\n",
              "      <td>0</td>\n",
              "      <td>0</td>\n",
              "    </tr>\n",
              "  </tbody>\n",
              "</table>\n",
              "</div>\n",
              "      <button class=\"colab-df-convert\" onclick=\"convertToInteractive('df-0e78a52a-3f9e-49ae-b72e-82f780cfe1c0')\"\n",
              "              title=\"Convert this dataframe to an interactive table.\"\n",
              "              style=\"display:none;\">\n",
              "        \n",
              "  <svg xmlns=\"http://www.w3.org/2000/svg\" height=\"24px\"viewBox=\"0 0 24 24\"\n",
              "       width=\"24px\">\n",
              "    <path d=\"M0 0h24v24H0V0z\" fill=\"none\"/>\n",
              "    <path d=\"M18.56 5.44l.94 2.06.94-2.06 2.06-.94-2.06-.94-.94-2.06-.94 2.06-2.06.94zm-11 1L8.5 8.5l.94-2.06 2.06-.94-2.06-.94L8.5 2.5l-.94 2.06-2.06.94zm10 10l.94 2.06.94-2.06 2.06-.94-2.06-.94-.94-2.06-.94 2.06-2.06.94z\"/><path d=\"M17.41 7.96l-1.37-1.37c-.4-.4-.92-.59-1.43-.59-.52 0-1.04.2-1.43.59L10.3 9.45l-7.72 7.72c-.78.78-.78 2.05 0 2.83L4 21.41c.39.39.9.59 1.41.59.51 0 1.02-.2 1.41-.59l7.78-7.78 2.81-2.81c.8-.78.8-2.07 0-2.86zM5.41 20L4 18.59l7.72-7.72 1.47 1.35L5.41 20z\"/>\n",
              "  </svg>\n",
              "      </button>\n",
              "      \n",
              "  <style>\n",
              "    .colab-df-container {\n",
              "      display:flex;\n",
              "      flex-wrap:wrap;\n",
              "      gap: 12px;\n",
              "    }\n",
              "\n",
              "    .colab-df-convert {\n",
              "      background-color: #E8F0FE;\n",
              "      border: none;\n",
              "      border-radius: 50%;\n",
              "      cursor: pointer;\n",
              "      display: none;\n",
              "      fill: #1967D2;\n",
              "      height: 32px;\n",
              "      padding: 0 0 0 0;\n",
              "      width: 32px;\n",
              "    }\n",
              "\n",
              "    .colab-df-convert:hover {\n",
              "      background-color: #E2EBFA;\n",
              "      box-shadow: 0px 1px 2px rgba(60, 64, 67, 0.3), 0px 1px 3px 1px rgba(60, 64, 67, 0.15);\n",
              "      fill: #174EA6;\n",
              "    }\n",
              "\n",
              "    [theme=dark] .colab-df-convert {\n",
              "      background-color: #3B4455;\n",
              "      fill: #D2E3FC;\n",
              "    }\n",
              "\n",
              "    [theme=dark] .colab-df-convert:hover {\n",
              "      background-color: #434B5C;\n",
              "      box-shadow: 0px 1px 3px 1px rgba(0, 0, 0, 0.15);\n",
              "      filter: drop-shadow(0px 1px 2px rgba(0, 0, 0, 0.3));\n",
              "      fill: #FFFFFF;\n",
              "    }\n",
              "  </style>\n",
              "\n",
              "      <script>\n",
              "        const buttonEl =\n",
              "          document.querySelector('#df-0e78a52a-3f9e-49ae-b72e-82f780cfe1c0 button.colab-df-convert');\n",
              "        buttonEl.style.display =\n",
              "          google.colab.kernel.accessAllowed ? 'block' : 'none';\n",
              "\n",
              "        async function convertToInteractive(key) {\n",
              "          const element = document.querySelector('#df-0e78a52a-3f9e-49ae-b72e-82f780cfe1c0');\n",
              "          const dataTable =\n",
              "            await google.colab.kernel.invokeFunction('convertToInteractive',\n",
              "                                                     [key], {});\n",
              "          if (!dataTable) return;\n",
              "\n",
              "          const docLinkHtml = 'Like what you see? Visit the ' +\n",
              "            '<a target=\"_blank\" href=https://colab.research.google.com/notebooks/data_table.ipynb>data table notebook</a>'\n",
              "            + ' to learn more about interactive tables.';\n",
              "          element.innerHTML = '';\n",
              "          dataTable['output_type'] = 'display_data';\n",
              "          await google.colab.output.renderOutput(dataTable, element);\n",
              "          const docLink = document.createElement('div');\n",
              "          docLink.innerHTML = docLinkHtml;\n",
              "          element.appendChild(docLink);\n",
              "        }\n",
              "      </script>\n",
              "    </div>\n",
              "  </div>\n",
              "  "
            ]
          },
          "metadata": {},
          "execution_count": 19
        }
      ]
    },
    {
      "metadata": {
        "trusted": false,
        "id": "791c1451"
      },
      "id": "791c1451",
      "cell_type": "code",
      "source": [
        "df1['t'] = np.arange(1,43)       #This column useful for capturing any trends or patterns that change over time.\n",
        "df1['t_squared'] = df1['t']**2   #help to capture any non-linear relationships between the time variable and the response variable.\n",
        "df1[\"Sales_log\"] =np.log(df['Sales']) #help to normalize the data and reduce the impact of extreme values."
      ],
      "execution_count": 20,
      "outputs": []
    },
    {
      "metadata": {
        "trusted": false,
        "colab": {
          "base_uri": "https://localhost:8080/",
          "height": 206
        },
        "id": "15a6c0c0",
        "outputId": "ff86fa3b-be92-43c4-bf6a-032ae457209f"
      },
      "id": "15a6c0c0",
      "cell_type": "code",
      "source": [
        "df1.head()"
      ],
      "execution_count": 21,
      "outputs": [
        {
          "output_type": "execute_result",
          "data": {
            "text/plain": [
              "  Quarter        Sales quarter  Q_Q1  Q_Q2  Q_Q3  Q_Q4  t  t_squared  \\\n",
              "0   Q1_86  1734.827000      Q1     1     0     0     0  1          1   \n",
              "1   Q2_86  2244.960999      Q2     0     1     0     0  2          4   \n",
              "2   Q3_86  2533.804993      Q3     0     0     1     0  3          9   \n",
              "3   Q4_86  2154.962997      Q4     0     0     0     1  4         16   \n",
              "4   Q1_87  1547.818996      Q1     1     0     0     0  5         25   \n",
              "\n",
              "   Sales_log  \n",
              "0   7.458663  \n",
              "1   7.716443  \n",
              "2   7.837477  \n",
              "3   7.675529  \n",
              "4   7.344602  "
            ],
            "text/html": [
              "\n",
              "  <div id=\"df-620558e0-454e-4ea4-98d7-8bc444de3be6\">\n",
              "    <div class=\"colab-df-container\">\n",
              "      <div>\n",
              "<style scoped>\n",
              "    .dataframe tbody tr th:only-of-type {\n",
              "        vertical-align: middle;\n",
              "    }\n",
              "\n",
              "    .dataframe tbody tr th {\n",
              "        vertical-align: top;\n",
              "    }\n",
              "\n",
              "    .dataframe thead th {\n",
              "        text-align: right;\n",
              "    }\n",
              "</style>\n",
              "<table border=\"1\" class=\"dataframe\">\n",
              "  <thead>\n",
              "    <tr style=\"text-align: right;\">\n",
              "      <th></th>\n",
              "      <th>Quarter</th>\n",
              "      <th>Sales</th>\n",
              "      <th>quarter</th>\n",
              "      <th>Q_Q1</th>\n",
              "      <th>Q_Q2</th>\n",
              "      <th>Q_Q3</th>\n",
              "      <th>Q_Q4</th>\n",
              "      <th>t</th>\n",
              "      <th>t_squared</th>\n",
              "      <th>Sales_log</th>\n",
              "    </tr>\n",
              "  </thead>\n",
              "  <tbody>\n",
              "    <tr>\n",
              "      <th>0</th>\n",
              "      <td>Q1_86</td>\n",
              "      <td>1734.827000</td>\n",
              "      <td>Q1</td>\n",
              "      <td>1</td>\n",
              "      <td>0</td>\n",
              "      <td>0</td>\n",
              "      <td>0</td>\n",
              "      <td>1</td>\n",
              "      <td>1</td>\n",
              "      <td>7.458663</td>\n",
              "    </tr>\n",
              "    <tr>\n",
              "      <th>1</th>\n",
              "      <td>Q2_86</td>\n",
              "      <td>2244.960999</td>\n",
              "      <td>Q2</td>\n",
              "      <td>0</td>\n",
              "      <td>1</td>\n",
              "      <td>0</td>\n",
              "      <td>0</td>\n",
              "      <td>2</td>\n",
              "      <td>4</td>\n",
              "      <td>7.716443</td>\n",
              "    </tr>\n",
              "    <tr>\n",
              "      <th>2</th>\n",
              "      <td>Q3_86</td>\n",
              "      <td>2533.804993</td>\n",
              "      <td>Q3</td>\n",
              "      <td>0</td>\n",
              "      <td>0</td>\n",
              "      <td>1</td>\n",
              "      <td>0</td>\n",
              "      <td>3</td>\n",
              "      <td>9</td>\n",
              "      <td>7.837477</td>\n",
              "    </tr>\n",
              "    <tr>\n",
              "      <th>3</th>\n",
              "      <td>Q4_86</td>\n",
              "      <td>2154.962997</td>\n",
              "      <td>Q4</td>\n",
              "      <td>0</td>\n",
              "      <td>0</td>\n",
              "      <td>0</td>\n",
              "      <td>1</td>\n",
              "      <td>4</td>\n",
              "      <td>16</td>\n",
              "      <td>7.675529</td>\n",
              "    </tr>\n",
              "    <tr>\n",
              "      <th>4</th>\n",
              "      <td>Q1_87</td>\n",
              "      <td>1547.818996</td>\n",
              "      <td>Q1</td>\n",
              "      <td>1</td>\n",
              "      <td>0</td>\n",
              "      <td>0</td>\n",
              "      <td>0</td>\n",
              "      <td>5</td>\n",
              "      <td>25</td>\n",
              "      <td>7.344602</td>\n",
              "    </tr>\n",
              "  </tbody>\n",
              "</table>\n",
              "</div>\n",
              "      <button class=\"colab-df-convert\" onclick=\"convertToInteractive('df-620558e0-454e-4ea4-98d7-8bc444de3be6')\"\n",
              "              title=\"Convert this dataframe to an interactive table.\"\n",
              "              style=\"display:none;\">\n",
              "        \n",
              "  <svg xmlns=\"http://www.w3.org/2000/svg\" height=\"24px\"viewBox=\"0 0 24 24\"\n",
              "       width=\"24px\">\n",
              "    <path d=\"M0 0h24v24H0V0z\" fill=\"none\"/>\n",
              "    <path d=\"M18.56 5.44l.94 2.06.94-2.06 2.06-.94-2.06-.94-.94-2.06-.94 2.06-2.06.94zm-11 1L8.5 8.5l.94-2.06 2.06-.94-2.06-.94L8.5 2.5l-.94 2.06-2.06.94zm10 10l.94 2.06.94-2.06 2.06-.94-2.06-.94-.94-2.06-.94 2.06-2.06.94z\"/><path d=\"M17.41 7.96l-1.37-1.37c-.4-.4-.92-.59-1.43-.59-.52 0-1.04.2-1.43.59L10.3 9.45l-7.72 7.72c-.78.78-.78 2.05 0 2.83L4 21.41c.39.39.9.59 1.41.59.51 0 1.02-.2 1.41-.59l7.78-7.78 2.81-2.81c.8-.78.8-2.07 0-2.86zM5.41 20L4 18.59l7.72-7.72 1.47 1.35L5.41 20z\"/>\n",
              "  </svg>\n",
              "      </button>\n",
              "      \n",
              "  <style>\n",
              "    .colab-df-container {\n",
              "      display:flex;\n",
              "      flex-wrap:wrap;\n",
              "      gap: 12px;\n",
              "    }\n",
              "\n",
              "    .colab-df-convert {\n",
              "      background-color: #E8F0FE;\n",
              "      border: none;\n",
              "      border-radius: 50%;\n",
              "      cursor: pointer;\n",
              "      display: none;\n",
              "      fill: #1967D2;\n",
              "      height: 32px;\n",
              "      padding: 0 0 0 0;\n",
              "      width: 32px;\n",
              "    }\n",
              "\n",
              "    .colab-df-convert:hover {\n",
              "      background-color: #E2EBFA;\n",
              "      box-shadow: 0px 1px 2px rgba(60, 64, 67, 0.3), 0px 1px 3px 1px rgba(60, 64, 67, 0.15);\n",
              "      fill: #174EA6;\n",
              "    }\n",
              "\n",
              "    [theme=dark] .colab-df-convert {\n",
              "      background-color: #3B4455;\n",
              "      fill: #D2E3FC;\n",
              "    }\n",
              "\n",
              "    [theme=dark] .colab-df-convert:hover {\n",
              "      background-color: #434B5C;\n",
              "      box-shadow: 0px 1px 3px 1px rgba(0, 0, 0, 0.15);\n",
              "      filter: drop-shadow(0px 1px 2px rgba(0, 0, 0, 0.3));\n",
              "      fill: #FFFFFF;\n",
              "    }\n",
              "  </style>\n",
              "\n",
              "      <script>\n",
              "        const buttonEl =\n",
              "          document.querySelector('#df-620558e0-454e-4ea4-98d7-8bc444de3be6 button.colab-df-convert');\n",
              "        buttonEl.style.display =\n",
              "          google.colab.kernel.accessAllowed ? 'block' : 'none';\n",
              "\n",
              "        async function convertToInteractive(key) {\n",
              "          const element = document.querySelector('#df-620558e0-454e-4ea4-98d7-8bc444de3be6');\n",
              "          const dataTable =\n",
              "            await google.colab.kernel.invokeFunction('convertToInteractive',\n",
              "                                                     [key], {});\n",
              "          if (!dataTable) return;\n",
              "\n",
              "          const docLinkHtml = 'Like what you see? Visit the ' +\n",
              "            '<a target=\"_blank\" href=https://colab.research.google.com/notebooks/data_table.ipynb>data table notebook</a>'\n",
              "            + ' to learn more about interactive tables.';\n",
              "          element.innerHTML = '';\n",
              "          dataTable['output_type'] = 'display_data';\n",
              "          await google.colab.output.renderOutput(dataTable, element);\n",
              "          const docLink = document.createElement('div');\n",
              "          docLink.innerHTML = docLinkHtml;\n",
              "          element.appendChild(docLink);\n",
              "        }\n",
              "      </script>\n",
              "    </div>\n",
              "  </div>\n",
              "  "
            ]
          },
          "metadata": {},
          "execution_count": 21
        }
      ]
    },
    {
      "metadata": {
        "trusted": false,
        "id": "87732249"
      },
      "id": "87732249",
      "cell_type": "code",
      "source": [
        "# Split the data into training and testing sets\n",
        "from sklearn.model_selection import train_test_split\n",
        "train, test = train_test_split(df1, test_size=0.2, random_state=0)\n"
      ],
      "execution_count": 22,
      "outputs": []
    },
    {
      "cell_type": "code",
      "source": [
        "train.shape"
      ],
      "metadata": {
        "colab": {
          "base_uri": "https://localhost:8080/"
        },
        "id": "IFjWSyGlnjL9",
        "outputId": "c762d428-3414-4e30-cbf3-4c024c98bdfd"
      },
      "id": "IFjWSyGlnjL9",
      "execution_count": 23,
      "outputs": [
        {
          "output_type": "execute_result",
          "data": {
            "text/plain": [
              "(33, 10)"
            ]
          },
          "metadata": {},
          "execution_count": 23
        }
      ]
    },
    {
      "cell_type": "code",
      "source": [
        "test.shape"
      ],
      "metadata": {
        "colab": {
          "base_uri": "https://localhost:8080/"
        },
        "id": "EImn07Lgnm8a",
        "outputId": "8bef18d1-dc13-4903-feb5-24700e4b1588"
      },
      "id": "EImn07Lgnm8a",
      "execution_count": 24,
      "outputs": [
        {
          "output_type": "execute_result",
          "data": {
            "text/plain": [
              "(9, 10)"
            ]
          },
          "metadata": {},
          "execution_count": 24
        }
      ]
    },
    {
      "metadata": {
        "trusted": false,
        "colab": {
          "base_uri": "https://localhost:8080/",
          "height": 452
        },
        "id": "23dc9246",
        "outputId": "ea2d747a-f1b3-431f-b6bc-406b7a8b2e54"
      },
      "id": "23dc9246",
      "cell_type": "code",
      "source": [
        "df1['Sales'].plot()"
      ],
      "execution_count": 25,
      "outputs": [
        {
          "output_type": "execute_result",
          "data": {
            "text/plain": [
              "<Axes: >"
            ]
          },
          "metadata": {},
          "execution_count": 25
        },
        {
          "output_type": "display_data",
          "data": {
            "text/plain": [
              "<Figure size 640x480 with 1 Axes>"
            ],
            "image/png": "[encoded data removed]"
          },
          "metadata": {}
        }
      ]
    },
    {
      "metadata": {
        "id": "87749cd3"
      },
      "id": "87749cd3",
      "cell_type": "markdown",
      "source": [
        "# Applying differnt Models to compare and choosing best one "
      ]
    },
    {
      "cell_type": "markdown",
      "source": [
        "# Linear Model"
      ],
      "metadata": {
        "id": "gQiycojVpmd-"
      },
      "id": "gQiycojVpmd-"
    },
    {
      "metadata": {
        "trusted": false,
        "colab": {
          "base_uri": "https://localhost:8080/"
        },
        "id": "8834c010",
        "outputId": "f6aa1cf5-55b7-4fbd-b385-41749c4146f2"
      },
      "id": "8834c010",
      "cell_type": "code",
      "source": [
        "import statsmodels.formula.api as smf\n",
        "from sklearn.metrics import mean_squared_error\n",
        "import numpy as np\n",
        "\n",
        "# Fit a linear regression model to the training data\n",
        "linear_model = smf.ols(\"Sales ~ t\", data=train).fit()\n",
        "\n",
        "# Make predictions on the test data using the linear model\n",
        "linear_pred = linear_model.predict(test['t'])\n",
        "\n",
        "# Calculate the RMSE of the linear model's predictions\n",
        "linear_rmse = np.sqrt(mean_squared_error(test['Sales'], linear_pred))\n",
        "\n",
        "# Print the RMSE\n",
        "print(\"Linear model RMSE:\", linear_rmse)"
      ],
      "execution_count": 26,
      "outputs": [
        {
          "output_type": "stream",
          "name": "stdout",
          "text": [
            "Linear model RMSE: 361.18841466914796\n"
          ]
        }
      ]
    },
    {
      "cell_type": "markdown",
      "source": [
        "#Quadratic Model"
      ],
      "metadata": {
        "id": "JHk4gwtb4AT6"
      },
      "id": "JHk4gwtb4AT6"
    },
    {
      "metadata": {
        "trusted": false,
        "colab": {
          "base_uri": "https://localhost:8080/"
        },
        "id": "9d48511e",
        "outputId": "90af76ab-fc3b-41df-ee67-c81acbb75f90"
      },
      "id": "9d48511e",
      "cell_type": "code",
      "source": [
        "# Fit a quadratic regression model to the training data\n",
        "quad_model = smf.ols(\"Sales ~ t + t_squared\", data=train).fit()\n",
        "\n",
        "# Make predictions on the test data using the quadratic model\n",
        "quad_pred = quad_model.predict(test[['t', 't_squared']])\n",
        "\n",
        "# Calculate the RMSE of the quadratic model's predictions\n",
        "quad_rmse = np.sqrt(mean_squared_error(test['Sales'], quad_pred))\n",
        "\n",
        "# Print the RMSE\n",
        "print(\"Quadratic model RMSE:\", quad_rmse)"
      ],
      "execution_count": 27,
      "outputs": [
        {
          "output_type": "stream",
          "name": "stdout",
          "text": [
            "Quadratic model RMSE: 345.7382431571081\n"
          ]
        }
      ]
    },
    {
      "cell_type": "markdown",
      "source": [
        "# Exponential model"
      ],
      "metadata": {
        "id": "hecPKAHv4XS-"
      },
      "id": "hecPKAHv4XS-"
    },
    {
      "metadata": {
        "trusted": false,
        "colab": {
          "base_uri": "https://localhost:8080/"
        },
        "id": "42733886",
        "outputId": "ebfc0026-bb7c-4df9-ff36-7f0368040a70"
      },
      "id": "42733886",
      "cell_type": "code",
      "source": [
        "\n",
        "# Fit an exponential regression model to the training data\n",
        "exp_model = smf.ols(\"Sales_log ~ t\", data=train).fit()\n",
        "\n",
        "# Make predictions on the test data using the exponential model\n",
        "exp_pred = exp_model.predict(test['t'])\n",
        "\n",
        "# Calculate the RMSE of the exponential model's predictions\n",
        "exp_rmse = np.sqrt(mean_squared_error(test['Sales'], np.exp(exp_pred)))\n",
        "\n",
        "# Print the RMSE\n",
        "print(\"Exponential model RMSE:\", exp_rmse)"
      ],
      "execution_count": 28,
      "outputs": [
        {
          "output_type": "stream",
          "name": "stdout",
          "text": [
            "Exponential model RMSE: 354.73680387195037\n"
          ]
        }
      ]
    },
    {
      "metadata": {
        "trusted": false,
        "colab": {
          "base_uri": "https://localhost:8080/"
        },
        "id": "5d7adfea",
        "outputId": "1d5bc8dc-0130-4825-b247-a4d43185163f"
      },
      "id": "5d7adfea",
      "cell_type": "code",
      "source": [
        "# Define the RMSE values and model names as lists\n",
        "rmse_values = [linear_rmse, exp_rmse, quad_rmse]\n",
        "model_names = [\"rmse_linear\", \"rmse_exp\", \"rmse_quad\"]\n",
        "\n",
        "# Create a DataFrame from the lists\n",
        "table_rmse = pd.DataFrame({\"MODEL\": model_names, \"RMSE_Values\": rmse_values})\n",
        "\n",
        "# Sort the DataFrame by RMSE values\n",
        "table_rmse_sorted = table_rmse.sort_values(by=\"RMSE_Values\")\n",
        "\n",
        "# Print the sorted DataFrame\n",
        "print(table_rmse_sorted)"
      ],
      "execution_count": 29,
      "outputs": [
        {
          "output_type": "stream",
          "name": "stdout",
          "text": [
            "         MODEL  RMSE_Values\n",
            "2    rmse_quad   345.738243\n",
            "1     rmse_exp   354.736804\n",
            "0  rmse_linear   361.188415\n"
          ]
        }
      ]
    },
    {
      "metadata": {
        "id": "17b31cd3"
      },
      "id": "17b31cd3",
      "cell_type": "markdown",
      "source": [
        "#ARIMA Model"
      ]
    },
    {
      "cell_type": "code",
      "source": [
        "data = pd.read_excel(\"/content/CocaCola_Sales_Rawdata.xlsx\",header=0,index_col=0, parse_dates=True)\n",
        "data.head()"
      ],
      "metadata": {
        "colab": {
          "base_uri": "https://localhost:8080/",
          "height": 237
        },
        "id": "0A9z74Xq--41",
        "outputId": "d66035a0-c44d-4291-9b19-e934e4ecbcb5"
      },
      "id": "0A9z74Xq--41",
      "execution_count": 30,
      "outputs": [
        {
          "output_type": "execute_result",
          "data": {
            "text/plain": [
              "               Sales\n",
              "Quarter             \n",
              "Q1_86    1734.827000\n",
              "Q2_86    2244.960999\n",
              "Q3_86    2533.804993\n",
              "Q4_86    2154.962997\n",
              "Q1_87    1547.818996"
            ],
            "text/html": [
              "\n",
              "  <div id=\"df-f6e7a0a8-2366-4988-a593-94f7e0fb6708\">\n",
              "    <div class=\"colab-df-container\">\n",
              "      <div>\n",
              "<style scoped>\n",
              "    .dataframe tbody tr th:only-of-type {\n",
              "        vertical-align: middle;\n",
              "    }\n",
              "\n",
              "    .dataframe tbody tr th {\n",
              "        vertical-align: top;\n",
              "    }\n",
              "\n",
              "    .dataframe thead th {\n",
              "        text-align: right;\n",
              "    }\n",
              "</style>\n",
              "<table border=\"1\" class=\"dataframe\">\n",
              "  <thead>\n",
              "    <tr style=\"text-align: right;\">\n",
              "      <th></th>\n",
              "      <th>Sales</th>\n",
              "    </tr>\n",
              "    <tr>\n",
              "      <th>Quarter</th>\n",
              "      <th></th>\n",
              "    </tr>\n",
              "  </thead>\n",
              "  <tbody>\n",
              "    <tr>\n",
              "      <th>Q1_86</th>\n",
              "      <td>1734.827000</td>\n",
              "    </tr>\n",
              "    <tr>\n",
              "      <th>Q2_86</th>\n",
              "      <td>2244.960999</td>\n",
              "    </tr>\n",
              "    <tr>\n",
              "      <th>Q3_86</th>\n",
              "      <td>2533.804993</td>\n",
              "    </tr>\n",
              "    <tr>\n",
              "      <th>Q4_86</th>\n",
              "      <td>2154.962997</td>\n",
              "    </tr>\n",
              "    <tr>\n",
              "      <th>Q1_87</th>\n",
              "      <td>1547.818996</td>\n",
              "    </tr>\n",
              "  </tbody>\n",
              "</table>\n",
              "</div>\n",
              "      <button class=\"colab-df-convert\" onclick=\"convertToInteractive('df-f6e7a0a8-2366-4988-a593-94f7e0fb6708')\"\n",
              "              title=\"Convert this dataframe to an interactive table.\"\n",
              "              style=\"display:none;\">\n",
              "        \n",
              "  <svg xmlns=\"http://www.w3.org/2000/svg\" height=\"24px\"viewBox=\"0 0 24 24\"\n",
              "       width=\"24px\">\n",
              "    <path d=\"M0 0h24v24H0V0z\" fill=\"none\"/>\n",
              "    <path d=\"M18.56 5.44l.94 2.06.94-2.06 2.06-.94-2.06-.94-.94-2.06-.94 2.06-2.06.94zm-11 1L8.5 8.5l.94-2.06 2.06-.94-2.06-.94L8.5 2.5l-.94 2.06-2.06.94zm10 10l.94 2.06.94-2.06 2.06-.94-2.06-.94-.94-2.06-.94 2.06-2.06.94z\"/><path d=\"M17.41 7.96l-1.37-1.37c-.4-.4-.92-.59-1.43-.59-.52 0-1.04.2-1.43.59L10.3 9.45l-7.72 7.72c-.78.78-.78 2.05 0 2.83L4 21.41c.39.39.9.59 1.41.59.51 0 1.02-.2 1.41-.59l7.78-7.78 2.81-2.81c.8-.78.8-2.07 0-2.86zM5.41 20L4 18.59l7.72-7.72 1.47 1.35L5.41 20z\"/>\n",
              "  </svg>\n",
              "      </button>\n",
              "      \n",
              "  <style>\n",
              "    .colab-df-container {\n",
              "      display:flex;\n",
              "      flex-wrap:wrap;\n",
              "      gap: 12px;\n",
              "    }\n",
              "\n",
              "    .colab-df-convert {\n",
              "      background-color: #E8F0FE;\n",
              "      border: none;\n",
              "      border-radius: 50%;\n",
              "      cursor: pointer;\n",
              "      display: none;\n",
              "      fill: #1967D2;\n",
              "      height: 32px;\n",
              "      padding: 0 0 0 0;\n",
              "      width: 32px;\n",
              "    }\n",
              "\n",
              "    .colab-df-convert:hover {\n",
              "      background-color: #E2EBFA;\n",
              "      box-shadow: 0px 1px 2px rgba(60, 64, 67, 0.3), 0px 1px 3px 1px rgba(60, 64, 67, 0.15);\n",
              "      fill: #174EA6;\n",
              "    }\n",
              "\n",
              "    [theme=dark] .colab-df-convert {\n",
              "      background-color: #3B4455;\n",
              "      fill: #D2E3FC;\n",
              "    }\n",
              "\n",
              "    [theme=dark] .colab-df-convert:hover {\n",
              "      background-color: #434B5C;\n",
              "      box-shadow: 0px 1px 3px 1px rgba(0, 0, 0, 0.15);\n",
              "      filter: drop-shadow(0px 1px 2px rgba(0, 0, 0, 0.3));\n",
              "      fill: #FFFFFF;\n",
              "    }\n",
              "  </style>\n",
              "\n",
              "      <script>\n",
              "        const buttonEl =\n",
              "          document.querySelector('#df-f6e7a0a8-2366-4988-a593-94f7e0fb6708 button.colab-df-convert');\n",
              "        buttonEl.style.display =\n",
              "          google.colab.kernel.accessAllowed ? 'block' : 'none';\n",
              "\n",
              "        async function convertToInteractive(key) {\n",
              "          const element = document.querySelector('#df-f6e7a0a8-2366-4988-a593-94f7e0fb6708');\n",
              "          const dataTable =\n",
              "            await google.colab.kernel.invokeFunction('convertToInteractive',\n",
              "                                                     [key], {});\n",
              "          if (!dataTable) return;\n",
              "\n",
              "          const docLinkHtml = 'Like what you see? Visit the ' +\n",
              "            '<a target=\"_blank\" href=https://colab.research.google.com/notebooks/data_table.ipynb>data table notebook</a>'\n",
              "            + ' to learn more about interactive tables.';\n",
              "          element.innerHTML = '';\n",
              "          dataTable['output_type'] = 'display_data';\n",
              "          await google.colab.output.renderOutput(dataTable, element);\n",
              "          const docLink = document.createElement('div');\n",
              "          docLink.innerHTML = docLinkHtml;\n",
              "          element.appendChild(docLink);\n",
              "        }\n",
              "      </script>\n",
              "    </div>\n",
              "  </div>\n",
              "  "
            ]
          },
          "metadata": {},
          "execution_count": 30
        }
      ]
    },
    {
      "metadata": {
        "trusted": false,
        "colab": {
          "base_uri": "https://localhost:8080/"
        },
        "id": "b062213d",
        "outputId": "9c92d11a-5485-4864-f21b-ab7393cb76e8"
      },
      "id": "b062213d",
      "cell_type": "code",
      "source": [
        "# set the size of the validation set\n",
        "val_size = 6\n",
        "\n",
        "# determine the split point\n",
        "split_point = len(data) - val_size\n",
        "\n",
        "# split the data into train and validation sets\n",
        "train1, validation_data = data[:split_point], data[split_point:]\n",
        "\n",
        "# print the sizes of the train and validation sets\n",
        "print(f\"train1: {len(train1)}, validation_data: {len(validation_data)}\")\n"
      ],
      "execution_count": 31,
      "outputs": [
        {
          "output_type": "stream",
          "name": "stdout",
          "text": [
            "train1: 36, validation_data: 6\n"
          ]
        }
      ]
    },
    {
      "metadata": {
        "trusted": false,
        "id": "7dbbe521"
      },
      "id": "7dbbe521",
      "cell_type": "code",
      "source": [
        "train1.to_csv('train1.csv', header=False)\n",
        "validation_data.to_csv('validation_data.csv', header=False)"
      ],
      "execution_count": 32,
      "outputs": []
    },
    {
      "metadata": {
        "trusted": false,
        "colab": {
          "base_uri": "https://localhost:8080/"
        },
        "id": "7a866ab7",
        "outputId": "e5d5880a-c733-4cbc-d81c-3bda9046d496"
      },
      "id": "7a866ab7",
      "cell_type": "code",
      "source": [
        "from pandas import read_csv\n",
        "from sklearn.metrics import mean_squared_error\n",
        "from math import sqrt\n",
        "\n",
        "train1 = read_csv('train1.csv', header=None, index_col=0, parse_dates=True, squeeze=True)\n",
        "\n",
        "train1"
      ],
      "execution_count": 33,
      "outputs": [
        {
          "output_type": "stream",
          "name": "stderr",
          "text": [
            "<ipython-input-33-bcbc3baf8881>:5: FutureWarning: The squeeze argument has been deprecated and will be removed in a future version. Append .squeeze(\"columns\") to the call to squeeze.\n",
            "\n",
            "\n",
            "  train1 = read_csv('train1.csv', header=None, index_col=0, parse_dates=True, squeeze=True)\n"
          ]
        },
        {
          "output_type": "execute_result",
          "data": {
            "text/plain": [
              "0\n",
              "Q1_86    1734.827000\n",
              "Q2_86    2244.960999\n",
              "Q3_86    2533.804993\n",
              "Q4_86    2154.962997\n",
              "Q1_87    1547.818996\n",
              "Q2_87    2104.411995\n",
              "Q3_87    2014.362999\n",
              "Q4_87    1991.746998\n",
              "Q1_88    1869.049999\n",
              "Q2_88    2313.631996\n",
              "Q3_88    2128.320000\n",
              "Q4_88    2026.828999\n",
              "Q1_89    1910.603996\n",
              "Q2_89    2331.164993\n",
              "Q3_89    2206.549995\n",
              "Q4_89    2173.967995\n",
              "Q1_90    2148.278000\n",
              "Q2_90    2739.307999\n",
              "Q3_90    2792.753998\n",
              "Q4_90    2556.009995\n",
              "Q1_91    2480.973999\n",
              "Q2_91    3039.522995\n",
              "Q3_91    3172.115997\n",
              "Q4_91    2879.000999\n",
              "Q1_92    2772.000000\n",
              "Q2_92    3550.000000\n",
              "Q3_92    3508.000000\n",
              "Q4_92    3243.859993\n",
              "Q1_93    3056.000000\n",
              "Q2_93    3899.000000\n",
              "Q3_93    3629.000000\n",
              "Q4_93    3373.000000\n",
              "Q1_94    3352.000000\n",
              "Q2_94    4342.000000\n",
              "Q3_94    4461.000000\n",
              "Q4_94    4017.000000\n",
              "Name: 1, dtype: float64"
            ]
          },
          "metadata": {},
          "execution_count": 33
        }
      ]
    },
    {
      "metadata": {
        "trusted": false,
        "id": "701144cb"
      },
      "id": "701144cb",
      "cell_type": "code",
      "source": [
        "X = train1.values\n",
        "X = X.astype('float32')\n",
        "train_size = int(len(X) * 0.50)\n",
        "train, test = X[0:train_size], X[train_size:]"
      ],
      "execution_count": 34,
      "outputs": []
    },
    {
      "metadata": {
        "id": "e82cd1ba"
      },
      "id": "e82cd1ba",
      "cell_type": "markdown",
      "source": [
        "###  Validation"
      ]
    },
    {
      "metadata": {
        "trusted": false,
        "colab": {
          "base_uri": "https://localhost:8080/"
        },
        "id": "b31a46e8",
        "outputId": "e1ef3eaf-8d05-4488-9fd6-5d64faeca5af"
      },
      "id": "b31a46e8",
      "cell_type": "code",
      "source": [
        "history = [x for x in train]\n",
        "prediction = list()\n",
        "for i in range(len(test)):\n",
        "    yhat = history[-1]\n",
        "    prediction.append(yhat)\n",
        "# observation\n",
        "    obs = test[i]\n",
        "    history.append(obs)\n",
        "    print('>Predicted=%.3f, Expected=%.3f' % (yhat, obs))\n",
        "# report performance\n",
        "rmse = sqrt(mean_squared_error(test, prediction))\n",
        "print('RMSE: %.3f' % rmse)"
      ],
      "execution_count": 35,
      "outputs": [
        {
          "output_type": "stream",
          "name": "stdout",
          "text": [
            ">Predicted=2739.308, Expected=2792.754\n",
            ">Predicted=2792.754, Expected=2556.010\n",
            ">Predicted=2556.010, Expected=2480.974\n",
            ">Predicted=2480.974, Expected=3039.523\n",
            ">Predicted=3039.523, Expected=3172.116\n",
            ">Predicted=3172.116, Expected=2879.001\n",
            ">Predicted=2879.001, Expected=2772.000\n",
            ">Predicted=2772.000, Expected=3550.000\n",
            ">Predicted=3550.000, Expected=3508.000\n",
            ">Predicted=3508.000, Expected=3243.860\n",
            ">Predicted=3243.860, Expected=3056.000\n",
            ">Predicted=3056.000, Expected=3899.000\n",
            ">Predicted=3899.000, Expected=3629.000\n",
            ">Predicted=3629.000, Expected=3373.000\n",
            ">Predicted=3373.000, Expected=3352.000\n",
            ">Predicted=3352.000, Expected=4342.000\n",
            ">Predicted=4342.000, Expected=4461.000\n",
            ">Predicted=4461.000, Expected=4017.000\n",
            "RMSE: 424.558\n"
          ]
        }
      ]
    },
    {
      "metadata": {
        "trusted": false,
        "colab": {
          "base_uri": "https://localhost:8080/",
          "height": 175
        },
        "id": "d55542d7",
        "outputId": "2caf1943-243d-4df5-d0c6-7eb210d74a31"
      },
      "id": "d55542d7",
      "cell_type": "code",
      "source": [
        "models = [\"rmse_linear\", \"rmse_exp\", \"rmse_quad\", \"RMSE_ARIMA\"]\n",
        "rmse_values = [linear_rmse, exp_rmse, quad_rmse, rmse]\n",
        "table_rmse = pd.DataFrame({\"MODEL\": models, \"RMSE_Values\": rmse_values})\n",
        "table_rmse = table_rmse.sort_values(by=\"RMSE_Values\")\n",
        "table_rmse"
      ],
      "execution_count": 36,
      "outputs": [
        {
          "output_type": "execute_result",
          "data": {
            "text/plain": [
              "         MODEL  RMSE_Values\n",
              "2    rmse_quad   345.738243\n",
              "1     rmse_exp   354.736804\n",
              "0  rmse_linear   361.188415\n",
              "3   RMSE_ARIMA   424.557969"
            ],
            "text/html": [
              "\n",
              "  <div id=\"df-b986a84b-4ff0-4f40-a6a2-049eec5083a2\">\n",
              "    <div class=\"colab-df-container\">\n",
              "      <div>\n",
              "<style scoped>\n",
              "    .dataframe tbody tr th:only-of-type {\n",
              "        vertical-align: middle;\n",
              "    }\n",
              "\n",
              "    .dataframe tbody tr th {\n",
              "        vertical-align: top;\n",
              "    }\n",
              "\n",
              "    .dataframe thead th {\n",
              "        text-align: right;\n",
              "    }\n",
              "</style>\n",
              "<table border=\"1\" class=\"dataframe\">\n",
              "  <thead>\n",
              "    <tr style=\"text-align: right;\">\n",
              "      <th></th>\n",
              "      <th>MODEL</th>\n",
              "      <th>RMSE_Values</th>\n",
              "    </tr>\n",
              "  </thead>\n",
              "  <tbody>\n",
              "    <tr>\n",
              "      <th>2</th>\n",
              "      <td>rmse_quad</td>\n",
              "      <td>345.738243</td>\n",
              "    </tr>\n",
              "    <tr>\n",
              "      <th>1</th>\n",
              "      <td>rmse_exp</td>\n",
              "      <td>354.736804</td>\n",
              "    </tr>\n",
              "    <tr>\n",
              "      <th>0</th>\n",
              "      <td>rmse_linear</td>\n",
              "      <td>361.188415</td>\n",
              "    </tr>\n",
              "    <tr>\n",
              "      <th>3</th>\n",
              "      <td>RMSE_ARIMA</td>\n",
              "      <td>424.557969</td>\n",
              "    </tr>\n",
              "  </tbody>\n",
              "</table>\n",
              "</div>\n",
              "      <button class=\"colab-df-convert\" onclick=\"convertToInteractive('df-b986a84b-4ff0-4f40-a6a2-049eec5083a2')\"\n",
              "              title=\"Convert this dataframe to an interactive table.\"\n",
              "              style=\"display:none;\">\n",
              "        \n",
              "  <svg xmlns=\"http://www.w3.org/2000/svg\" height=\"24px\"viewBox=\"0 0 24 24\"\n",
              "       width=\"24px\">\n",
              "    <path d=\"M0 0h24v24H0V0z\" fill=\"none\"/>\n",
              "    <path d=\"M18.56 5.44l.94 2.06.94-2.06 2.06-.94-2.06-.94-.94-2.06-.94 2.06-2.06.94zm-11 1L8.5 8.5l.94-2.06 2.06-.94-2.06-.94L8.5 2.5l-.94 2.06-2.06.94zm10 10l.94 2.06.94-2.06 2.06-.94-2.06-.94-.94-2.06-.94 2.06-2.06.94z\"/><path d=\"M17.41 7.96l-1.37-1.37c-.4-.4-.92-.59-1.43-.59-.52 0-1.04.2-1.43.59L10.3 9.45l-7.72 7.72c-.78.78-.78 2.05 0 2.83L4 21.41c.39.39.9.59 1.41.59.51 0 1.02-.2 1.41-.59l7.78-7.78 2.81-2.81c.8-.78.8-2.07 0-2.86zM5.41 20L4 18.59l7.72-7.72 1.47 1.35L5.41 20z\"/>\n",
              "  </svg>\n",
              "      </button>\n",
              "      \n",
              "  <style>\n",
              "    .colab-df-container {\n",
              "      display:flex;\n",
              "      flex-wrap:wrap;\n",
              "      gap: 12px;\n",
              "    }\n",
              "\n",
              "    .colab-df-convert {\n",
              "      background-color: #E8F0FE;\n",
              "      border: none;\n",
              "      border-radius: 50%;\n",
              "      cursor: pointer;\n",
              "      display: none;\n",
              "      fill: #1967D2;\n",
              "      height: 32px;\n",
              "      padding: 0 0 0 0;\n",
              "      width: 32px;\n",
              "    }\n",
              "\n",
              "    .colab-df-convert:hover {\n",
              "      background-color: #E2EBFA;\n",
              "      box-shadow: 0px 1px 2px rgba(60, 64, 67, 0.3), 0px 1px 3px 1px rgba(60, 64, 67, 0.15);\n",
              "      fill: #174EA6;\n",
              "    }\n",
              "\n",
              "    [theme=dark] .colab-df-convert {\n",
              "      background-color: #3B4455;\n",
              "      fill: #D2E3FC;\n",
              "    }\n",
              "\n",
              "    [theme=dark] .colab-df-convert:hover {\n",
              "      background-color: #434B5C;\n",
              "      box-shadow: 0px 1px 3px 1px rgba(0, 0, 0, 0.15);\n",
              "      filter: drop-shadow(0px 1px 2px rgba(0, 0, 0, 0.3));\n",
              "      fill: #FFFFFF;\n",
              "    }\n",
              "  </style>\n",
              "\n",
              "      <script>\n",
              "        const buttonEl =\n",
              "          document.querySelector('#df-b986a84b-4ff0-4f40-a6a2-049eec5083a2 button.colab-df-convert');\n",
              "        buttonEl.style.display =\n",
              "          google.colab.kernel.accessAllowed ? 'block' : 'none';\n",
              "\n",
              "        async function convertToInteractive(key) {\n",
              "          const element = document.querySelector('#df-b986a84b-4ff0-4f40-a6a2-049eec5083a2');\n",
              "          const dataTable =\n",
              "            await google.colab.kernel.invokeFunction('convertToInteractive',\n",
              "                                                     [key], {});\n",
              "          if (!dataTable) return;\n",
              "\n",
              "          const docLinkHtml = 'Like what you see? Visit the ' +\n",
              "            '<a target=\"_blank\" href=https://colab.research.google.com/notebooks/data_table.ipynb>data table notebook</a>'\n",
              "            + ' to learn more about interactive tables.';\n",
              "          element.innerHTML = '';\n",
              "          dataTable['output_type'] = 'display_data';\n",
              "          await google.colab.output.renderOutput(dataTable, element);\n",
              "          const docLink = document.createElement('div');\n",
              "          docLink.innerHTML = docLinkHtml;\n",
              "          element.appendChild(docLink);\n",
              "        }\n",
              "      </script>\n",
              "    </div>\n",
              "  </div>\n",
              "  "
            ]
          },
          "metadata": {},
          "execution_count": 36
        }
      ]
    },
    {
      "cell_type": "code",
      "source": [
        "# Define the values\n",
        "rmse_values = [linear_rmse, exp_rmse, quad_rmse]\n",
        "model_names = [\"rmse_linear\", \"rmse_exp\", \"rmse_quad\"]\n",
        "\n",
        "# Create a DataFrame from the lists\n",
        "table_rmse = pd.DataFrame({\"MODEL\": model_names, \"RMSE_Values\": rmse_values})\n",
        "\n",
        "# Sort the DataFrame by RMSE values\n",
        "table_rmse_sorted = table_rmse.sort_values(by=\"RMSE_Values\")\n",
        "\n",
        "# Plot the bar chart\n",
        "plt.bar(table_rmse_sorted[\"MODEL\"], table_rmse_sorted[\"RMSE_Values\"])\n",
        "plt.title(\"RMSE Values for Different Models\")\n",
        "plt.xlabel(\"Models\")\n",
        "plt.ylabel(\"RMSE Values\")\n",
        "plt.show()"
      ],
      "metadata": {
        "colab": {
          "base_uri": "https://localhost:8080/",
          "height": 481
        },
        "id": "imFc6pfoLy8C",
        "outputId": "551338cb-94e8-471e-d4aa-41f7b0d4696b"
      },
      "id": "imFc6pfoLy8C",
      "execution_count": 37,
      "outputs": [
        {
          "output_type": "display_data",
          "data": {
            "text/plain": [
              "<Figure size 640x480 with 1 Axes>"
            ],
            "image/png": "[encoded data removed]"
          },
          "metadata": {}
        }
      ]
    },
    {
      "cell_type": "markdown",
      "source": [
        "#Visual representation of all the models"
      ],
      "metadata": {
        "id": "d5gUghunInQO"
      },
      "id": "d5gUghunInQO"
    },
    {
      "cell_type": "code",
      "source": [
        "import matplotlib.pyplot as plt\n",
        "\n",
        "# Create a list of model names and corresponding predictions\n",
        "models = [\"Linear\", \"Quadratic\", \"Exponential\", \"ARIMA\"]\n",
        "predictions = [linear_pred, quad_pred, exp_pred, prediction]\n",
        "\n",
        "# Plot actual vs predicted values for each model\n",
        "plt.figure(figsize=(10, 6))\n",
        "plt.plot(df1['Sales'], label=\"Actual\")\n",
        "for i in range(len(models)):\n",
        "    plt.plot(predictions[i], label=models[i])\n",
        "plt.legend()\n",
        "plt.show()"
      ],
      "metadata": {
        "colab": {
          "base_uri": "https://localhost:8080/",
          "height": 527
        },
        "id": "qNW3YOu0GdrJ",
        "outputId": "5ab7933e-81ff-460c-9d89-1dd5ebe9d401"
      },
      "id": "qNW3YOu0GdrJ",
      "execution_count": 38,
      "outputs": [
        {
          "output_type": "display_data",
          "data": {
            "text/plain": [
              "<Figure size 1000x600 with 1 Axes>"
            ],
            "image/png": "[encoded data removed]"
          },
          "metadata": {}
        }
      ]
    }
  ],
  "metadata": {
    "kernelspec": {
      "name": "python3",
      "display_name": "Python 3",
      "language": "python"
    },
    "language_info": {
      "name": "python",
      "version": "3.8.8",
      "mimetype": "text/x-python",
      "codemirror_mode": {
        "name": "ipython",
        "version": 3
      },
      "pygments_lexer": "ipython3",
      "nbconvert_exporter": "python",
      "file_extension": ".py"
    },
    "toc": {
      "nav_menu": {},
      "number_sections": true,
      "sideBar": true,
      "skip_h1_title": false,
      "base_numbering": 1,
      "title_cell": "Table of Contents",
      "title_sidebar": "Contents",
      "toc_cell": false,
      "toc_position": {},
      "toc_section_display": true,
      "toc_window_display": false
    },
    "gist": {
      "id": "",
      "data": {
        "description": "Forecasting Assignment.ipynb",
        "public": true
      }
    },
    "colab": {
      "provenance": []
    }
  },
  "nbformat": 4,
  "nbformat_minor": 5
}